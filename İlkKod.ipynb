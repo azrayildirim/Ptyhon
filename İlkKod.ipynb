{
 "cells": [
  {
   "cell_type": "markdown",
   "metadata": {},
   "source": [
    "# Yeni bir Proje\n",
    "Jupiter İlk Proje"
   ]
  },
  {
   "cell_type": "code",
   "execution_count": 30,
   "metadata": {},
   "outputs": [
    {
     "name": "stdout",
     "output_type": "stream",
     "text": [
      "Hello Azra\n",
      "Hello Azra\n"
     ]
    }
   ],
   "source": [
    "My_Name=\"Azra\"\n",
    "My_Statment=\"Hello \"+My_Name\n",
    "My_Index=1\n",
    "if My_Statment==\"Hello Azra\":\n",
    "    print(My_Statment+\"\\nHello \"+My_Name)\n",
    "else:\n",
    "    print(\"Bye Bye\")"
   ]
  },
  {
   "cell_type": "code",
   "execution_count": 31,
   "metadata": {
    "scrolled": true
   },
   "outputs": [
    {
     "name": "stdout",
     "output_type": "stream",
     "text": [
      "Hello Azra\n",
      "\n",
      "Hello Azra\n",
      "\n",
      "Hello Azra\n",
      "\n",
      "Hello Azra\n",
      "\n",
      "Hello Azra\n",
      "\n"
     ]
    }
   ],
   "source": [
    "for j in range(0,5):\n",
    "    print(My_Statment+\"\\n\")"
   ]
  },
  {
   "cell_type": "code",
   "execution_count": null,
   "metadata": {},
   "outputs": [],
   "source": []
  },
  {
   "cell_type": "code",
   "execution_count": null,
   "metadata": {},
   "outputs": [],
   "source": []
  }
 ],
 "metadata": {
  "kernelspec": {
   "display_name": "Python 3",
   "language": "python",
   "name": "python3"
  },
  "language_info": {
   "codemirror_mode": {
    "name": "ipython",
    "version": 3
   },
   "file_extension": ".py",
   "mimetype": "text/x-python",
   "name": "python",
   "nbconvert_exporter": "python",
   "pygments_lexer": "ipython3",
   "version": "3.7.6"
  }
 },
 "nbformat": 4,
 "nbformat_minor": 4
}
